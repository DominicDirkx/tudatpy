{
 "cells": [
  {
   "cell_type": "markdown",
   "metadata": {},
   "source": [
    "# 1. Unperturbed Earth-orbiting Satellite"
   ]
  },
  {
   "cell_type": "markdown",
   "metadata": {},
   "source": [
    "The example described on this page is that of Delfi-C3, the first satellite from TU Delft and first nanosatellite from the Netherlands. The code for this tutorial is given on Github, and is also located in your Tudat bundle:\n",
    "\n",
    "`tudatBundle/tudatpy/examples/tutorial_1.py`"
   ]
  },
  {
   "cell_type": "markdown",
   "metadata": {},
   "source": [
    "*Given the position and velocity of the Asterix satellite at a certain point in time with respect to the Earth, what will its position and velocity be after a Julian day has passed?*\n",
    "\n",
    "There are a number of assumptions we can make in answering this question, which is often the case when translating a problem statement into a simulation. In our first tutorial, we will approximate the problem by the following:\n",
    "\n",
    "- The (initial) position and velocity of Asterix are given in the form of a Keplerian state vector.\n",
    "- The Earth is modeled as a point mass, and the spacecraft is modeled as massless.\n",
    "- All perturbations, such as solar radiation and third-body gravity, etc. are neglected."
   ]
  },
  {
   "cell_type": "markdown",
   "metadata": {},
   "source": [
    "## 1.1. Set Up the Environment"
   ]
  },
  {
   "cell_type": "code",
   "execution_count": 3,
   "metadata": {},
   "outputs": [],
   "source": [
    "import numpy as np\n",
    "from tudatpy import spice_interface\n",
    "from tudatpy.simulation_setup import get_default_body_settings\n",
    "from tudatpy.simulation_setup import create_bodies\n",
    "from tudatpy.simulation_setup import ConstantEphemerisSettings"
   ]
  },
  {
   "cell_type": "code",
   "execution_count": 4,
   "metadata": {},
   "outputs": [],
   "source": [
    "spice_interface.load_standard_spice_kernels()"
   ]
  },
  {
   "cell_type": "code",
   "execution_count": 14,
   "metadata": {},
   "outputs": [],
   "source": [
    "from tudatpy import constants\n",
    "from constants import *"
   ]
  },
  {
   "cell_type": "code",
   "execution_count": 38,
   "metadata": {},
   "outputs": [
    {
     "name": "stdout",
     "output_type": "stream",
     "text": [
      "|    | Name                                 |           Value |\n",
      "|---:|:-------------------------------------|----------------:|\n",
      "|  0 | ASTRONOMICAL_UNIT                    |     1.49598e+11 |\n",
      "|  1 | BOLTZMANN_CONSTANT                   |     1.38065e-23 |\n",
      "|  2 | E                                    |     2.71828     |\n",
      "|  3 | EARTH_EQUATORIAL_RADIUS              |     6.37814e+06 |\n",
      "|  4 | EARTH_FLATTENING_FACTOR              |   298.256       |\n",
      "|  5 | EARTH_GEODESY_NORMALIZED_J2          |    -0.000484165 |\n",
      "|  6 | EARTH_GRAVITATIONAL_PARAMETER        |     3.986e+14   |\n",
      "|  7 | GOLDEN_RATIO                         |     1.61803     |\n",
      "|  8 | GRAVITATIONAL_CONSTANT               |     6.67259e-11 |\n",
      "|  9 | INVERSE_CUBIC_SPEED_OF_LIGHT         |     3.7114e-26  |\n",
      "| 10 | INVERSE_QUARTIC_SPEED_OF_LIGHT       |     1.23799e-34 |\n",
      "| 11 | INVERSE_QUINTIC_SPEED_OF_LIGHT       |     4.12949e-43 |\n",
      "| 12 | INVERSE_SQUARE_SPEED_OF_LIGHT        |     1.11265e-17 |\n",
      "| 13 | JULIAN_DAY                           | 86400           |\n",
      "| 14 | JULIAN_DAY_LONG                      | 86400           |\n",
      "| 15 | JULIAN_YEAR                          |     3.15576e+07 |\n",
      "| 16 | JULIAN_YEAR_IN_DAYS                  |   365.25        |\n",
      "| 17 | JULIAN_YEAR_IN_DAYS_LONG             |   365.25        |\n",
      "| 18 | JUPITER_GRAVITATIONAL_PARAMETER      |     1.26713e+17 |\n",
      "| 19 | LG_TIME_RATE_TERM                    |     6.96929e-10 |\n",
      "| 20 | LG_TIME_RATE_TERM_LONG               |     6.96929e-10 |\n",
      "| 21 | LONG_PI                              |     3.14159     |\n",
      "| 22 | MARS_GRAVITATIONAL_PARAMETER         |     4.28283e+13 |\n",
      "| 23 | MERCURY_GRAVITATIONAL_PARAMETER      |     2.20321e+13 |\n",
      "| 24 | MOLAR_GAS_CONSTANT                   |     8.31446     |\n",
      "| 25 | MOON_GRAVITATIONAL_PARAMETER         |     4.9028e+12  |\n",
      "| 26 | NEPTUNE_GRAVITATIONAL_PARAMETER      |     6.83653e+15 |\n",
      "| 27 | PI                                   |     3.14159     |\n",
      "| 28 | PLANCK_CONSTANT                      |     6.62607e-34 |\n",
      "| 29 | PLUTO_GRAVITATIONAL_PARAMETER        |     9.83055e+11 |\n",
      "| 30 | SATURN_GRAVITATIONAL_PARAMETER       |     3.79406e+16 |\n",
      "| 31 | SEA_LEVEL_GRAVITATIONAL_ACCELERATION |     9.80665     |\n",
      "| 32 | SIDEREAL_DAY                         | 86164.1         |\n",
      "| 33 | SIDEREAL_YEAR                        |     3.15581e+07 |\n",
      "| 34 | SIDEREAL_YEAR_IN_DAYS                |   365.256       |\n",
      "| 35 | SPECIFIC_GAS_CONSTANT_AIR            |   287           |\n",
      "| 36 | SPEED_OF_LIGHT                       |     2.99792e+08 |\n",
      "| 37 | SPEED_OF_LIGHT_LONG                  |     2.99792e+08 |\n",
      "| 38 | STEFAN_BOLTZMANN_CONSTANT            |     5.67037e-08 |\n",
      "| 39 | SUN_GRAVITATIONAL_PARAMETER          |     1.32712e+20 |\n",
      "| 40 | TUDAT_NAN                            |   nan           |\n",
      "| 41 | URANUS_GRAVITATIONAL_PARAMETER       |     5.79455e+15 |\n",
      "| 42 | VACUUM_PERMEABILITY                  |     1.25664e-06 |\n",
      "| 43 | VACUUM_PERMITTIVITY                  |     8.85419e-12 |\n",
      "| 44 | VENUS_GRAVITATIONAL_PARAMETER        |     3.24859e+14 |\n"
     ]
    }
   ],
   "source": [
    "print(df.to_markdown())"
   ]
  },
  {
   "cell_type": "code",
   "execution_count": null,
   "metadata": {},
   "outputs": [],
   "source": []
  }
 ],
 "metadata": {
  "kernelspec": {
   "display_name": "Python 3",
   "language": "python",
   "name": "python3"
  },
  "language_info": {
   "codemirror_mode": {
    "name": "ipython",
    "version": 3
   },
   "file_extension": ".py",
   "mimetype": "text/x-python",
   "name": "python",
   "nbconvert_exporter": "python",
   "pygments_lexer": "ipython3",
   "version": "3.7.6"
  }
 },
 "nbformat": 4,
 "nbformat_minor": 4
}
