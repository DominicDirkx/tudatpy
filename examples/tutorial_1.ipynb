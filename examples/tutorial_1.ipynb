{
 "cells": [
  {
   "cell_type": "markdown",
   "metadata": {},
   "source": [
    "# 1. Unperturbed Earth-orbiting Satellite"
   ]
  },
  {
   "cell_type": "code",
   "execution_count": 21,
   "metadata": {},
   "outputs": [
    {
     "name": "stdout",
     "output_type": "stream",
     "text": [
      "15.4 µs ± 115 ns per loop (mean ± std. dev. of 7 runs, 100000 loops each)\n"
     ]
    }
   ],
   "source": [
    "%%timeit\n",
    "\n",
    "import numpy as np                          # The go-to Python for matrices.\n",
    "from tudatpy import constants               # Module to retrieve constants in tudatpy.\n",
    "from tudatpy import elements                # Module for state conversions.\n",
    "from tudatpy import io                      # Module for saving to text files.\n",
    "from tudatpy import ephemerides             # Module for ephemeris data.\n",
    "from tudatpy import interpolators\n",
    "from tudatpy import numerical_integrators\n",
    "from tudatpy import spice_interface\n",
    "from tudatpy import basic_astrodynamics\n",
    "# from tudatpy import orbital_element_conversions # LEGACY MODULE\n",
    "from tudatpy import propagators\n",
    "from tudatpy import aerodynamics\n",
    "from tudatpy import simulation_setup"
   ]
  },
  {
   "cell_type": "markdown",
   "metadata": {},
   "source": [
    "## General Simulation Parameters"
   ]
  },
  {
   "cell_type": "code",
   "execution_count": 18,
   "metadata": {},
   "outputs": [
    {
     "name": "stdout",
     "output_type": "stream",
     "text": [
      "17.3 ms ± 1.86 ms per loop (mean ± std. dev. of 7 runs, 100 loops each)\n"
     ]
    }
   ],
   "source": [
    "%%timeit\n",
    "\n",
    "# Load spice kernels.\n",
    "spice_interface.load_standard_spice_kernels()\n",
    "\n",
    "# Set simulation start epoch.\n",
    "simulation_start_epoch = 0.0\n",
    "\n",
    "# Set numerical integration fixed step size.\n",
    "fixed_step_size = 1.0\n",
    "\n",
    "# Set simulation end epoch.\n",
    "simulation_end_epoch = constants.JULIAN_DAY"
   ]
  },
  {
   "cell_type": "code",
   "execution_count": 17,
   "metadata": {},
   "outputs": [
    {
     "name": "stdout",
     "output_type": "stream",
     "text": [
      "7.15 ms ± 18.6 µs per loop (mean ± std. dev. of 7 runs, 100 loops each)\n"
     ]
    }
   ],
   "source": [
    "%%timeit\n",
    "\n",
    "###########################################################################\n",
    "# CREATE ENVIRONMENT ######################################################\n",
    "###########################################################################\n",
    "\n",
    "# Create body objects.\n",
    "bodies_to_create = [\"Earth\"]\n",
    "\n",
    "body_settings = simulation_setup.get_default_body_settings(bodies_to_create)\n",
    "\n",
    "body_settings[\"Earth\"].ephemeris_settings = simulation_setup.ConstantEphemerisSettings(\n",
    "    np.zeros(6))\n",
    "\n",
    "body_settings[\"Earth\"].rotation_model_settings.reset_original_frame(\"ECLIPJ2000\")\n",
    "\n",
    "# Create Earth Object.\n",
    "bodies = simulation_setup.create_bodies(body_settings)"
   ]
  },
  {
   "cell_type": "code",
   "execution_count": 15,
   "metadata": {},
   "outputs": [
    {
     "name": "stdout",
     "output_type": "stream",
     "text": [
      "881 ns ± 24 ns per loop (mean ± std. dev. of 7 runs, 1000000 loops each)\n"
     ]
    }
   ],
   "source": [
    "%%timeit\n",
    "\n",
    "###########################################################################\n",
    "# CREATE VEHICLE ##########################################################\n",
    "###########################################################################\n",
    "\n",
    "# Create vehicle objects.\n",
    "bodies[\"Delfi-C3\"] = simulation_setup.Body()"
   ]
  },
  {
   "cell_type": "code",
   "execution_count": 16,
   "metadata": {},
   "outputs": [
    {
     "name": "stdout",
     "output_type": "stream",
     "text": [
      "634 ns ± 2.03 ns per loop (mean ± std. dev. of 7 runs, 1000000 loops each)\n"
     ]
    }
   ],
   "source": [
    "%%timeit\n",
    "\n",
    "###########################################################################\n",
    "# FINALIZE BODIES #########################################################\n",
    "###########################################################################\n",
    "\n",
    "simulation_setup.set_global_frame_body_ephemerides(bodies, \"SSB\",\n",
    "                                                   \"ECLIPJ2000\")"
   ]
  },
  {
   "cell_type": "code",
   "execution_count": 12,
   "metadata": {},
   "outputs": [
    {
     "name": "stdout",
     "output_type": "stream",
     "text": [
      "4.04 µs ± 27.8 ns per loop (mean ± std. dev. of 7 runs, 100000 loops each)\n"
     ]
    }
   ],
   "source": [
    "%%timeit\n",
    "\n",
    "###########################################################################\n",
    "# CREATE ACCELERATIONS ####################################################\n",
    "###########################################################################\n",
    "\n",
    "# Define bodies that are propagated.\n",
    "bodies_to_propagate = [\"Delfi-C3\"]\n",
    "\n",
    "# Define central bodies.\n",
    "central_bodies = [\"Earth\"]\n",
    "\n",
    "# Define accelerations acting on Delfi-C3.\n",
    "accelerations_of_delfi_c3 = dict(\n",
    "    Earth=[simulation_setup.Acceleration.point_mass_gravity()]\n",
    ")\n",
    "\n",
    "# Create global accelerations dictionary.\n",
    "accelerations = {\"Delfi-C3\": accelerations_of_delfi_c3}\n",
    "\n",
    "# Create acceleration models.\n",
    "acceleration_models = simulation_setup.create_acceleration_models_dict(\n",
    "    bodies, accelerations, bodies_to_propagate, central_bodies)"
   ]
  },
  {
   "cell_type": "code",
   "execution_count": 11,
   "metadata": {},
   "outputs": [
    {
     "name": "stdout",
     "output_type": "stream",
     "text": [
      "21 µs ± 541 ns per loop (mean ± std. dev. of 7 runs, 10000 loops each)\n"
     ]
    }
   ],
   "source": [
    "%%timeit\n",
    "\n",
    "###########################################################################\n",
    "# CREATE PROPAGATION SETTINGS #############################################\n",
    "###########################################################################\n",
    "\n",
    "# Set initial conditions for the Asterix satellite that will be\n",
    "# propagated in this simulation. The initial conditions are given in\n",
    "# Keplerian elements and later on converted to Cartesian elements.\n",
    "\n",
    "# Set Keplerian elements for Delfi-C3\n",
    "earth_gravitational_parameter = bodies[\n",
    "    \"Earth\"].gravity_field_model.get_gravitational_parameter()\n",
    "\n",
    "# REVISED CONTEMPORARY DESIGN.\n",
    "system_initial_state = elements.keplerian2cartesian(\n",
    "    mu=earth_gravitational_parameter,\n",
    "    a=7500.0E3,\n",
    "    ecc=0.1,\n",
    "    inc=np.deg2rad(85.3),\n",
    "    raan=np.deg2rad(23.4),\n",
    "    argp=np.deg2rad(235.7),\n",
    "    nu=np.deg2rad(139.87))\n",
    "\n",
    "# Create propagation settings.\n",
    "propagator_settings = propagators.TranslationalStatePropagatorSettings(\n",
    "    central_bodies,\n",
    "    acceleration_models,\n",
    "    bodies_to_propagate,\n",
    "    system_initial_state,\n",
    "    simulation_end_epoch\n",
    ")\n",
    "# Create numerical integrator settings.\n",
    "integrator_settings = numerical_integrators.IntegratorSettings(\n",
    "    numerical_integrators.AvailableIntegrators.rungeKutta4,\n",
    "    simulation_start_epoch,\n",
    "    fixed_step_size\n",
    ")"
   ]
  },
  {
   "cell_type": "code",
   "execution_count": 10,
   "metadata": {},
   "outputs": [
    {
     "name": "stdout",
     "output_type": "stream",
     "text": [
      "252 ms ± 3.86 ms per loop (mean ± std. dev. of 7 runs, 1 loop each)\n"
     ]
    }
   ],
   "source": [
    "%%timeit\n",
    "\n",
    "###########################################################################\n",
    "# PROPAGATE ORBIT #########################################################\n",
    "###########################################################################\n",
    "\n",
    "# Create simulation object and propagate dynamics.\n",
    "dynamics_simulator = propagators.SingleArcDynamicsSimulator(\n",
    "    bodies, integrator_settings, propagator_settings, True)\n",
    "result = dynamics_simulator.get_equations_of_motion_numerical_solution()"
   ]
  },
  {
   "cell_type": "code",
   "execution_count": 20,
   "metadata": {},
   "outputs": [
    {
     "name": "stdout",
     "output_type": "stream",
     "text": [
      "\n",
      "Single Earth-Orbiting Satellite Example.\n",
      "The initial position vector of Delfi-C3 is [km]: \n",
      "[7037.48400133 3238.05901792 2150.7241875 ] \n",
      "The initial velocity vector of Delfi-C3 is [km]: \n",
      "[-1.46565763 -0.04095839  6.62279761]\n",
      "After 86400.0 seconds the position vector of Delfi-C3 is [km]: \n",
      "[-4560.45411243 -1438.31828479  5973.9910792 ]\n",
      "And the velocity vector of Delfi-C3 is [km]: \n",
      "[-1.46565763 -0.04095839  6.62279761]\n",
      "    \n"
     ]
    }
   ],
   "source": [
    "###########################################################################\n",
    "# PRINT INITIAL AND FINAL STATES ##########################################\n",
    "###########################################################################\n",
    "\n",
    "print(\n",
    "    f\"\"\"\n",
    "Single Earth-Orbiting Satellite Example.\n",
    "The initial position vector of Delfi-C3 is [km]: \\n{\n",
    "    result[simulation_start_epoch][:3] / 1E3} \n",
    "The initial velocity vector of Delfi-C3 is [km]: \\n{\n",
    "    result[simulation_start_epoch][3:] / 1E3}\n",
    "After {simulation_end_epoch} seconds the position vector of Delfi-C3 is [km]: \\n{\n",
    "    result[simulation_end_epoch][:3] / 1E3}\n",
    "And the velocity vector of Delfi-C3 is [km]: \\n{\n",
    "    result[simulation_start_epoch][3:] / 1E3}\n",
    "    \"\"\"\n",
    ")"
   ]
  },
  {
   "cell_type": "code",
   "execution_count": null,
   "metadata": {},
   "outputs": [],
   "source": []
  }
 ],
 "metadata": {
  "kernelspec": {
   "display_name": "Python 3",
   "language": "python",
   "name": "python3"
  },
  "language_info": {
   "codemirror_mode": {
    "name": "ipython",
    "version": 3
   },
   "file_extension": ".py",
   "mimetype": "text/x-python",
   "name": "python",
   "nbconvert_exporter": "python",
   "pygments_lexer": "ipython3",
   "version": "3.7.6"
  }
 },
 "nbformat": 4,
 "nbformat_minor": 4
}
